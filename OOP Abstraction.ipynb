{
 "cells": [
  {
   "cell_type": "markdown",
   "id": "7f83f766-1f99-431b-a6fc-0316098ed8e2",
   "metadata": {},
   "source": [
    "### Assignment 2: Vehicle Abstract Class\n",
    "Design an abstract class `Vehicle` with abstract methods `start_engine()` and `stop_engine()`. Create two classes, `Car` and `Bike`, that inherit from `Vehicle` and implement these methods.\n",
    "\n",
    "**Instructions:**\n",
    "1. Create an abstract class `Vehicle` with abstract methods `start_engine()` and `stop_engine()`.\n",
    "2. Implement `Car` class with specific details for `start_engine()` and `stop_engine()`.\n",
    "3. Implement `Bike` class with its own details for `start_engine()` and `stop_engine()`.\n",
    "4. Create objects of `Car` and `Bike`, and test their methods."
   ]
  },
  {
   "cell_type": "code",
   "execution_count": 10,
   "id": "c6e76570-882d-4f75-8156-052dfced6002",
   "metadata": {},
   "outputs": [],
   "source": [
    "from abc import ABC, abstractmethod\n",
    "class Vehicle(ABC):\n",
    "\n",
    "    @abstractmethod\n",
    "    def start_engine(self):\n",
    "        pass\n",
    "    @abstractmethod\n",
    "    def stop_engine(self):\n",
    "        pass\n",
    "\n",
    "class Car(Vehicle):\n",
    "    def start_engine(self):\n",
    "        print(\"Engine Started\")\n",
    "\n",
    "    def stop_engine(self):\n",
    "        print(\"Engine Stopped\")"
   ]
  },
  {
   "cell_type": "code",
   "execution_count": 11,
   "id": "e4e60b05-419c-4947-b979-d471831d4eba",
   "metadata": {},
   "outputs": [
    {
     "name": "stdout",
     "output_type": "stream",
     "text": [
      "Engine Started\n"
     ]
    }
   ],
   "source": [
    "a = Car()\n",
    "\n",
    "a.start_engine()"
   ]
  },
  {
   "cell_type": "markdown",
   "id": "806123a7-061e-4da7-9e7a-116c48a0aadd",
   "metadata": {},
   "source": [
    "### Assignment 3: Payment System\n",
    "Create an abstract class `PaymentMethod` that has an abstract method `process_payment()`. Implement two subclasses, `CreditCardPayment` and `PayPalPayment`, which process payments in different ways.\n",
    "\n",
    "**Instructions:**\n",
    "1. Create an abstract class `PaymentMethod` with an abstract method `process_payment()`.\n",
    "2. Implement a `CreditCardPayment` class that processes payment using credit card details.\n",
    "3. Implement a `PayPalPayment` class that processes payment using PayPal account.\n",
    "4. Test both payment methods by simulating a transaction."
   ]
  },
  {
   "cell_type": "code",
   "execution_count": 12,
   "id": "82e574d2-a79f-4b8f-becf-9a264cafb4fc",
   "metadata": {},
   "outputs": [],
   "source": [
    "from abc import ABC, abstractmethod\n",
    "\n",
    "class PaymentMethod(ABC):\n",
    "\n",
    "    @abstractmethod\n",
    "    def process_payment(self):\n",
    "        pass\n",
    "\n",
    "class CreditCard(PaymentMethod):\n",
    "    def process_payment(self):\n",
    "        print(\"Payment Processed\")"
   ]
  },
  {
   "cell_type": "code",
   "execution_count": 13,
   "id": "8094b4d2-897b-42ad-a736-228ed8b66e39",
   "metadata": {},
   "outputs": [
    {
     "name": "stdout",
     "output_type": "stream",
     "text": [
      "Payment Processed\n"
     ]
    }
   ],
   "source": [
    "b = CreditCard()\n",
    "b.process_payment()"
   ]
  },
  {
   "cell_type": "markdown",
   "id": "39da9d36-4d42-4e4e-b3a2-2e987006ab33",
   "metadata": {},
   "source": [
    "### Assignment 5: Employee Management System\n",
    "Design an abstract class `Employee` with abstract methods `calculate_salary()` and `get_role()`. Implement two subclasses: `FullTimeEmployee` and `PartTimeEmployee`. Each subclass should implement the abstract methods based on its type.\n",
    "\n",
    "**Instructions:**\n",
    "1. Create an abstract class `Employee` with methods `calculate_salary()` and `get_role()`.\n",
    "2. Implement `FullTimeEmployee` class with a fixed monthly salary.\n",
    "3. Implement `PartTimeEmployee` class that calculates salary based on an hourly wage.\n",
    "4. Create instances of both classes and test their `calculate_salary()` and `get_role()` methods.\n",
    "\n",
    "These assignments cover different aspects of abstraction, inheritance, and method overriding in Python OOP."
   ]
  },
  {
   "cell_type": "code",
   "execution_count": 11,
   "id": "87249510-028a-49ef-bd6d-611aea9d8a06",
   "metadata": {},
   "outputs": [],
   "source": [
    "from abc import ABC, abstractmethod\n",
    "class Employee():\n",
    "\n",
    "    @abstractmethod\n",
    "    def calculate_salary(self):\n",
    "        pass\n",
    "\n",
    "    @abstractmethod\n",
    "    def get_role(self):\n",
    "        pass\n",
    "\n",
    "class FullTimeEmployee(Employee):\n",
    "    def calculate_salary(self):\n",
    "        print(\"Salary is 50000\")\n",
    "\n",
    "    def get_role(self):\n",
    "        print(\"You are Manager.\")\n"
   ]
  },
  {
   "cell_type": "code",
   "execution_count": 12,
   "id": "2d2ce80b-c00d-4fa2-8f74-792809ecc01c",
   "metadata": {},
   "outputs": [],
   "source": [
    "a = FullTimeEmployee()"
   ]
  },
  {
   "cell_type": "code",
   "execution_count": 13,
   "id": "745da7b1-bb0e-476f-9750-267ba34df2b3",
   "metadata": {},
   "outputs": [
    {
     "name": "stdout",
     "output_type": "stream",
     "text": [
      "You are Manager.\n"
     ]
    }
   ],
   "source": [
    "a.get_role()"
   ]
  },
  {
   "cell_type": "code",
   "execution_count": 1,
   "id": "aa6d8aae-8fe5-467c-97c0-5dd2cdfcd15c",
   "metadata": {},
   "outputs": [
    {
     "ename": "NameError",
     "evalue": "name 'a' is not defined",
     "output_type": "error",
     "traceback": [
      "\u001b[1;31m---------------------------------------------------------------------------\u001b[0m",
      "\u001b[1;31mNameError\u001b[0m                                 Traceback (most recent call last)",
      "Cell \u001b[1;32mIn[1], line 1\u001b[0m\n\u001b[1;32m----> 1\u001b[0m a\u001b[38;5;241m.\u001b[39mcalculate_salary()\n",
      "\u001b[1;31mNameError\u001b[0m: name 'a' is not defined"
     ]
    }
   ],
   "source": [
    "a.calculate_salary()"
   ]
  },
  {
   "cell_type": "code",
   "execution_count": null,
   "id": "fa41bdc9-279c-4768-b1b7-544581e52d6d",
   "metadata": {},
   "outputs": [],
   "source": []
  }
 ],
 "metadata": {
  "kernelspec": {
   "display_name": "Python 3 (ipykernel)",
   "language": "python",
   "name": "python3"
  },
  "language_info": {
   "codemirror_mode": {
    "name": "ipython",
    "version": 3
   },
   "file_extension": ".py",
   "mimetype": "text/x-python",
   "name": "python",
   "nbconvert_exporter": "python",
   "pygments_lexer": "ipython3",
   "version": "3.12.4"
  }
 },
 "nbformat": 4,
 "nbformat_minor": 5
}
