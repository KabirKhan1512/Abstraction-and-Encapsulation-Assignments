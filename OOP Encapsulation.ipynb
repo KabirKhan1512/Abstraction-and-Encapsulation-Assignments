{
 "cells": [
  {
   "cell_type": "markdown",
   "id": "0ebc081f-b6b9-4f98-8acc-1e691f39a24b",
   "metadata": {},
   "source": [
    "## Assignment 1: Bank Account\n",
    "Objective: Create a BankAccount class that demonstrates encapsulation by managing account balance and providing controlled access to it.\n",
    "\n",
    "Instructions:\n",
    "\n",
    "Define a BankAccount class with a private attribute _balance.\n",
    "Implement a public method deposit to add funds to the account.\n",
    "Implement a public method withdraw to withdraw funds from the account, ensuring that the balance cannot go below zero.\n",
    "Implement a public method get_balance to retrieve the current balance.\n",
    "Create an instance of BankAccount and perform deposit and withdrawal operations. Ensure that direct access to the _balance attribute is restricted."
   ]
  },
  {
   "cell_type": "code",
   "execution_count": 15,
   "id": "a32091f9-d18a-4a28-b05d-3f73b7bab1ef",
   "metadata": {},
   "outputs": [],
   "source": [
    "class BankAccount():\n",
    "    def __init__(self, balance):\n",
    "        self.__balance = balance\n",
    "\n",
    "    def add_balance(self, amount):\n",
    "        self._BankAccount__balance += amount\n",
    "        print(f\"Balance {amount} is added to the account.\")\n",
    "\n",
    "    def withdraw_balance(self, amount):\n",
    "        if self._BankAccount__balance - amount >= 0:\n",
    "            self._BankAccount__balance -= amount\n",
    "            print(f\"Rs. {amount} withdrawn from your account and your new balance is {self._BankAccount__balance}.\")\n",
    "        else:\n",
    "            print(\"Insufficient Funds. Try with less amount.\")\n",
    "\n",
    "    def get_balance(self):\n",
    "        print(f\"Balance: {self._BankAccount__balance}\")"
   ]
  },
  {
   "cell_type": "code",
   "execution_count": 16,
   "id": "f256154a-1263-40e7-9dd0-7ff94f2a3b99",
   "metadata": {},
   "outputs": [],
   "source": [
    "a = BankAccount(1000)"
   ]
  },
  {
   "cell_type": "code",
   "execution_count": 17,
   "id": "329235fa-2de2-4332-8a62-b2a68d622393",
   "metadata": {},
   "outputs": [
    {
     "name": "stdout",
     "output_type": "stream",
     "text": [
      "Balance 10000 is added to the account.\n"
     ]
    }
   ],
   "source": [
    "a.add_balance(10000)"
   ]
  },
  {
   "cell_type": "code",
   "execution_count": 18,
   "id": "78ebcbe3-4d6b-4d34-a953-e745ba155783",
   "metadata": {},
   "outputs": [
    {
     "data": {
      "text/plain": [
       "11000"
      ]
     },
     "execution_count": 18,
     "metadata": {},
     "output_type": "execute_result"
    }
   ],
   "source": [
    "a._BankAccount__balance"
   ]
  },
  {
   "cell_type": "code",
   "execution_count": 19,
   "id": "160096d9-000c-417b-a7f1-52932963d748",
   "metadata": {},
   "outputs": [
    {
     "name": "stdout",
     "output_type": "stream",
     "text": [
      "Rs. 5000 withdrawn from your account and your new balance is 6000.\n"
     ]
    }
   ],
   "source": [
    "a.withdraw_balance(5000)"
   ]
  },
  {
   "cell_type": "code",
   "execution_count": 21,
   "id": "5c7f55fb-7e7a-4660-a203-80db9c636e99",
   "metadata": {},
   "outputs": [
    {
     "name": "stdout",
     "output_type": "stream",
     "text": [
      "Insufficient Funds. Try with less amount.\n"
     ]
    }
   ],
   "source": [
    "a.withdraw_balance(8000)"
   ]
  },
  {
   "cell_type": "code",
   "execution_count": 22,
   "id": "4840e061-67e9-41aa-9e4a-4e67d432f7a9",
   "metadata": {},
   "outputs": [
    {
     "data": {
      "text/plain": [
       "6000"
      ]
     },
     "execution_count": 22,
     "metadata": {},
     "output_type": "execute_result"
    }
   ],
   "source": [
    "a._BankAccount__balance"
   ]
  },
  {
   "cell_type": "markdown",
   "id": "e641c1b6-6de9-44bb-8bac-26a00294ca3b",
   "metadata": {},
   "source": [
    "## Assignment 3: Employee Management\n",
    "Objective: Create an Employee class that demonstrates encapsulation by managing employee details and providing controlled access to them.\n",
    "\n",
    "Instructions:\n",
    "\n",
    "Define an Employee class with private attributes _name, _id, and _salary.\n",
    "Implement public methods get_name, set_name, get_id, set_id, get_salary, and set_salary to access and modify these attributes, with appropriate validation (e.g., salary must be positive).\n",
    "Implement a public method print_details to display all employee details.\n",
    "Ensure that the private attributes cannot be directly accessed or modified from outside the class."
   ]
  },
  {
   "cell_type": "code",
   "execution_count": 23,
   "id": "04bbe214-e6d8-41b6-96e5-fd2bf6951655",
   "metadata": {},
   "outputs": [],
   "source": [
    "class Employee():\n",
    "    def __init__(self, name, id, salary):\n",
    "        self.__name = name\n",
    "        self.__id = id\n",
    "        self.__salary = salary\n",
    "\n",
    "    def get_name(self):\n",
    "        return self._Employee__name\n",
    "\n",
    "    def set_name(self, name):\n",
    "        self._Employee__name = name\n",
    "        print(f\"Name is set as {name}\")\n",
    "\n",
    "    def get_id(self):\n",
    "        return self._Employee__id\n",
    "\n",
    "    def set_id(self, id):\n",
    "        self._Employee__id = id\n",
    "        print(f\"ID is set as {id}\")\n",
    "\n",
    "    def get_salary(self):\n",
    "        return self._Employee__salary\n",
    "\n",
    "    def set_salary(self, salary):\n",
    "        self._Employee__salary = salary\n",
    "        print(f\"Salary is set as {salary}\")"
   ]
  },
  {
   "cell_type": "code",
   "execution_count": 24,
   "id": "7b746834-e60b-4ab5-9bd5-b2f438456630",
   "metadata": {},
   "outputs": [],
   "source": [
    "a = Employee(\"Kabir\", \"01\", \"50000\")"
   ]
  },
  {
   "cell_type": "code",
   "execution_count": 25,
   "id": "6277f665-f9ff-44b7-9c18-d66eedc531dc",
   "metadata": {},
   "outputs": [
    {
     "ename": "AttributeError",
     "evalue": "'Employee' object has no attribute 'name'",
     "output_type": "error",
     "traceback": [
      "\u001b[1;31m---------------------------------------------------------------------------\u001b[0m",
      "\u001b[1;31mAttributeError\u001b[0m                            Traceback (most recent call last)",
      "Cell \u001b[1;32mIn[25], line 1\u001b[0m\n\u001b[1;32m----> 1\u001b[0m a\u001b[38;5;241m.\u001b[39mname\n",
      "\u001b[1;31mAttributeError\u001b[0m: 'Employee' object has no attribute 'name'"
     ]
    }
   ],
   "source": [
    "a.name"
   ]
  },
  {
   "cell_type": "code",
   "execution_count": 26,
   "id": "d9151432-2017-49c4-bf12-6871b0ea5867",
   "metadata": {},
   "outputs": [
    {
     "data": {
      "text/plain": [
       "'Kabir'"
      ]
     },
     "execution_count": 26,
     "metadata": {},
     "output_type": "execute_result"
    }
   ],
   "source": [
    "a._Employee__name"
   ]
  },
  {
   "cell_type": "code",
   "execution_count": 27,
   "id": "33cbc802-fd00-4982-9ba7-85fee9fff503",
   "metadata": {},
   "outputs": [
    {
     "data": {
      "text/plain": [
       "'01'"
      ]
     },
     "execution_count": 27,
     "metadata": {},
     "output_type": "execute_result"
    }
   ],
   "source": [
    "a.get_id()"
   ]
  },
  {
   "cell_type": "code",
   "execution_count": 28,
   "id": "a1908782-4407-4143-ad45-6e837084279a",
   "metadata": {},
   "outputs": [
    {
     "name": "stdout",
     "output_type": "stream",
     "text": [
      "ID is set as 02\n"
     ]
    }
   ],
   "source": [
    "a.set_id(\"02\")"
   ]
  },
  {
   "cell_type": "code",
   "execution_count": 29,
   "id": "e91927b6-bc77-4c64-8d84-762761361953",
   "metadata": {},
   "outputs": [
    {
     "data": {
      "text/plain": [
       "'50000'"
      ]
     },
     "execution_count": 29,
     "metadata": {},
     "output_type": "execute_result"
    }
   ],
   "source": [
    "a.get_salary()"
   ]
  },
  {
   "cell_type": "code",
   "execution_count": 30,
   "id": "e1754c4a-cf29-4bb7-bdea-bac0ba81afa2",
   "metadata": {},
   "outputs": [
    {
     "name": "stdout",
     "output_type": "stream",
     "text": [
      "Salary is set as 60000\n"
     ]
    }
   ],
   "source": [
    "a.set_salary(\"60000\")"
   ]
  },
  {
   "cell_type": "markdown",
   "id": "080ea1a5-abe5-49f7-a833-7d8f6a42d9ab",
   "metadata": {},
   "source": [
    "## Assignment: Library Management System\n",
    "Objective: Create a Book class that manages book details using public, protected, and private methods and attributes. Implement a class that mimics the behavior of a library where book information can be added and accessed but with certain restrictions.\n",
    "\n",
    "Instructions:\n",
    "Create a Book class with the following attributes:\n",
    "\n",
    "title (public): The title of the book.\n",
    "_author (protected): The author of the book.\n",
    "__copies_available (private): The number of copies available in the library.\n",
    "Implement the following methods:\n",
    "\n",
    "get_title() (public): Return the title of the book.\n",
    "_get_author() (protected): Return the name of the author (protected, can be accessed within the class or subclasses).\n",
    "__get_copies_available() (private): Return the number of copies available (can only be accessed within the class).\n",
    "Create another class Library that manages a collection of books:\n",
    "\n",
    "A method add_book() to add books to the library.\n",
    "A method borrow_book() to reduce the available copies of the book (it should ensure that copies are not reduced below zero).\n",
    "A method show_book_details() to display the book’s title, author, and available copies (you should use appropriate methods to retrieve these values).\n",
    "Ensure that:\n",
    "\n",
    "The __copies_available attribute is not directly accessible from outside the Book class.\n",
    "The _author attribute is only accessed within the class or its subclasses.\n",
    "The title attribute can be accessed from anywhere."
   ]
  },
  {
   "cell_type": "code",
   "execution_count": 1,
   "id": "2734a9fe-a08c-45b7-9bb6-f26f7218d419",
   "metadata": {},
   "outputs": [],
   "source": [
    "class Book():\n",
    "    def __init__(self, title, author, copies):\n",
    "        self.title = title\n",
    "        self._author = author\n",
    "        self.__copies_available = copies\n",
    "\n",
    "    def get_title(self):\n",
    "        return self.title\n",
    "\n",
    "    def _get_author(self):\n",
    "        return self._author\n",
    "\n",
    "    def __get_copies_available(self):\n",
    "        return self._Book__copies_available"
   ]
  },
  {
   "cell_type": "code",
   "execution_count": 2,
   "id": "10466912-ac2d-4269-b4ef-16302a56babe",
   "metadata": {},
   "outputs": [],
   "source": [
    "a = Book(\"ABC\", \"XYZ\", 5)\n",
    "b = Book(\"ASD\", \"Kabir\", 7)\n",
    "c = Book(\"QWE\", \"Ali\", 3)"
   ]
  },
  {
   "cell_type": "code",
   "execution_count": 10,
   "id": "4d755ad6-0ec7-4f77-8321-aa08cc739991",
   "metadata": {},
   "outputs": [],
   "source": [
    "class Library():\n",
    "    def __init__(self):\n",
    "        self.books = []\n",
    "\n",
    "    def add_book(self, book):\n",
    "        self.books.append(book)\n",
    "        print(f\"Book {book} added to the library.\")\n",
    "\n",
    "    def borrow_book(self, book):\n",
    "        if book in self.books:\n",
    "            book._Book__copies_available -= 1\n",
    "        print(f\"1 Copy of the book {book.title} is borrowed and remaining are {book._Book__copies_available}.\")\n",
    "\n",
    "    def show_book_details(self, book):\n",
    "        if book in self.books:\n",
    "            print(f\"Title: {book.title}\\nAuthor: {book._author}\\nCopies Available: {book._Book__copies_available}\")\n",
    "    "
   ]
  },
  {
   "cell_type": "code",
   "execution_count": 11,
   "id": "bc22d67c-540c-416f-87c3-f9cf0303e64b",
   "metadata": {},
   "outputs": [],
   "source": [
    "my_lib = Library()"
   ]
  },
  {
   "cell_type": "code",
   "execution_count": 12,
   "id": "30415151-4bb9-4041-bab2-72a53b0d9d63",
   "metadata": {},
   "outputs": [
    {
     "name": "stdout",
     "output_type": "stream",
     "text": [
      "Book <__main__.Book object at 0x000001E2EBA357C0> added to the library.\n",
      "Book <__main__.Book object at 0x000001E2EBA35400> added to the library.\n",
      "Book <__main__.Book object at 0x000001E2EBA34EC0> added to the library.\n"
     ]
    }
   ],
   "source": [
    "my_lib.add_book(a)\n",
    "my_lib.add_book(b)\n",
    "my_lib.add_book(c)"
   ]
  },
  {
   "cell_type": "code",
   "execution_count": null,
   "id": "4dd56f3f-ed5b-4fc7-82e8-da860682af18",
   "metadata": {},
   "outputs": [],
   "source": []
  },
  {
   "cell_type": "code",
   "execution_count": null,
   "id": "5a558977-2b09-4d58-919a-54ec1867d95e",
   "metadata": {},
   "outputs": [],
   "source": []
  },
  {
   "cell_type": "code",
   "execution_count": 13,
   "id": "a6d47cdc-3ff6-4692-af9c-8529241df1fa",
   "metadata": {},
   "outputs": [
    {
     "name": "stdout",
     "output_type": "stream",
     "text": [
      "1 Copy of the book QWE is borrowed and remaining are 1.\n"
     ]
    }
   ],
   "source": [
    "my_lib.borrow_book(c)"
   ]
  },
  {
   "cell_type": "code",
   "execution_count": 14,
   "id": "17ddb24d-59fd-450e-be80-48d2b4fde789",
   "metadata": {},
   "outputs": [
    {
     "name": "stdout",
     "output_type": "stream",
     "text": [
      "Title: ABC\n",
      "Author: XYZ\n",
      "Copies Available: 4\n",
      "Title: ASD\n",
      "Author: Kabir\n",
      "Copies Available: 6\n",
      "Title: QWE\n",
      "Author: Ali\n",
      "Copies Available: 1\n"
     ]
    }
   ],
   "source": [
    "my_lib.show_book_details(a)\n",
    "my_lib.show_book_details(b)\n",
    "my_lib.show_book_details(c)"
   ]
  },
  {
   "cell_type": "code",
   "execution_count": null,
   "id": "db967617-0ccb-4152-b06f-b6fda1a282ce",
   "metadata": {},
   "outputs": [],
   "source": []
  }
 ],
 "metadata": {
  "kernelspec": {
   "display_name": "Python 3 (ipykernel)",
   "language": "python",
   "name": "python3"
  },
  "language_info": {
   "codemirror_mode": {
    "name": "ipython",
    "version": 3
   },
   "file_extension": ".py",
   "mimetype": "text/x-python",
   "name": "python",
   "nbconvert_exporter": "python",
   "pygments_lexer": "ipython3",
   "version": "3.12.4"
  }
 },
 "nbformat": 4,
 "nbformat_minor": 5
}
